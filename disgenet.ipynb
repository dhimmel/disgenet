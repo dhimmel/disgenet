{
 "cells": [
  {
   "cell_type": "markdown",
   "metadata": {},
   "source": [
    "# Procesing DisGeNET for disease-gene relationships\n",
    "\n",
    "+ [DisGeNET website](http://www.disgenet.org/web/DisGeNET/menu/home)\n",
    "+ [2015 publication](https://dx.doi.org/10.1093/database/bav028)\n",
    "+ [2011 publication](https://dx.doi.org/10.1371/journal.pone.0020284)\n",
    "+ [2010 publication](https://dx.doi.org/10.1093/bioinformatics/btq538)"
   ]
  },
  {
   "cell_type": "code",
   "execution_count": 1,
   "metadata": {
    "collapsed": true
   },
   "outputs": [],
   "source": [
    "import pandas\n",
    "import seaborn\n",
    "\n",
    "%matplotlib inline"
   ]
  },
  {
   "cell_type": "markdown",
   "metadata": {},
   "source": [
    "## Data download"
   ]
  },
  {
   "cell_type": "code",
   "execution_count": 2,
   "metadata": {
    "collapsed": false
   },
   "outputs": [],
   "source": [
    "# filenames = [\n",
    "#     'readme.txt',\n",
    "#     'curated_gene_disease_associations.txt.gz',\n",
    "#     'literature_gene_disease_associations.txt.gz',\n",
    "#     'befree_gene_disease_associations.txt.gz',\n",
    "#     'all_gene_disease_associations.txt.gz',\n",
    "# ]\n",
    "\n",
    "# base_url = 'http://www.disgenet.org/ds/DisGeNET/results'\n",
    "\n",
    "# for filename in filenames:\n",
    "#     ! wget --timestamping --no-verbose --directory-prefix download {base_url}/{filename}"
   ]
  },
  {
   "cell_type": "markdown",
   "metadata": {},
   "source": [
    "## Read mappings"
   ]
  },
  {
   "cell_type": "code",
   "execution_count": 3,
   "metadata": {
    "collapsed": false
   },
   "outputs": [
    {
     "data": {
      "text/html": [
       "<div>\n",
       "<table border=\"1\" class=\"dataframe\">\n",
       "  <thead>\n",
       "    <tr style=\"text-align: right;\">\n",
       "      <th></th>\n",
       "      <th>doid_code</th>\n",
       "      <th>doid_name</th>\n",
       "      <th>diseaseId</th>\n",
       "    </tr>\n",
       "  </thead>\n",
       "  <tbody>\n",
       "    <tr>\n",
       "      <th>513</th>\n",
       "      <td>DOID:2531</td>\n",
       "      <td>hematologic cancer</td>\n",
       "      <td>umls:C0001815</td>\n",
       "    </tr>\n",
       "    <tr>\n",
       "      <th>514</th>\n",
       "      <td>DOID:2531</td>\n",
       "      <td>hematologic cancer</td>\n",
       "      <td>umls:C0002890</td>\n",
       "    </tr>\n",
       "    <tr>\n",
       "      <th>515</th>\n",
       "      <td>DOID:2531</td>\n",
       "      <td>hematologic cancer</td>\n",
       "      <td>umls:C0006413</td>\n",
       "    </tr>\n",
       "  </tbody>\n",
       "</table>\n",
       "</div>"
      ],
      "text/plain": [
       "     doid_code           doid_name      diseaseId\n",
       "513  DOID:2531  hematologic cancer  umls:C0001815\n",
       "514  DOID:2531  hematologic cancer  umls:C0002890\n",
       "515  DOID:2531  hematologic cancer  umls:C0006413"
      ]
     },
     "execution_count": 3,
     "metadata": {},
     "output_type": "execute_result"
    }
   ],
   "source": [
    "# Download and process UMLS to DOID mappings\n",
    "# We use the propagated mappings here\n",
    "url = 'https://raw.githubusercontent.com/dhimmel/disease-ontology/72614ade9f1cc5a5317b8f6836e1e464b31d5587/data/xrefs-prop-slim.tsv'\n",
    "domap_df = pandas.read_table(url)\n",
    "domap_df = domap_df.query('resource == \"UMLS\"')\n",
    "domap_df['diseaseId'] = 'umls:' + domap_df['resource_id']\n",
    "domap_df = domap_df[['doid_code', 'doid_name', 'diseaseId']]\n",
    "domap_df.head(3)"
   ]
  },
  {
   "cell_type": "markdown",
   "metadata": {},
   "source": [
    "## Read data"
   ]
  },
  {
   "cell_type": "code",
   "execution_count": 4,
   "metadata": {
    "collapsed": false
   },
   "outputs": [
    {
     "data": {
      "text/html": [
       "<div>\n",
       "<table border=\"1\" class=\"dataframe\">\n",
       "  <thead>\n",
       "    <tr style=\"text-align: right;\">\n",
       "      <th></th>\n",
       "      <th>doid_code</th>\n",
       "      <th>doid_name</th>\n",
       "      <th>diseaseId</th>\n",
       "      <th>geneId</th>\n",
       "      <th>geneSymbol</th>\n",
       "      <th>geneName</th>\n",
       "      <th>diseaseName</th>\n",
       "      <th>score</th>\n",
       "      <th>NumberOfPubmeds</th>\n",
       "      <th>associationType</th>\n",
       "      <th>source</th>\n",
       "    </tr>\n",
       "  </thead>\n",
       "  <tbody>\n",
       "    <tr>\n",
       "      <th>0</th>\n",
       "      <td>DOID:2531</td>\n",
       "      <td>hematologic cancer</td>\n",
       "      <td>umls:C0001815</td>\n",
       "      <td>3717</td>\n",
       "      <td>JAK2</td>\n",
       "      <td>Janus kinase 2</td>\n",
       "      <td>Primary Myelofibrosis</td>\n",
       "      <td>0.371838</td>\n",
       "      <td>242</td>\n",
       "      <td>AlteredExpression, Biomarker, GeneticVariation</td>\n",
       "      <td>BeFree, CTD_human, GAD, LHGDN</td>\n",
       "    </tr>\n",
       "    <tr>\n",
       "      <th>1</th>\n",
       "      <td>DOID:2531</td>\n",
       "      <td>hematologic cancer</td>\n",
       "      <td>umls:C0001815</td>\n",
       "      <td>2146</td>\n",
       "      <td>EZH2</td>\n",
       "      <td>enhancer of zeste 2 polycomb repressive comple...</td>\n",
       "      <td>Primary Myelofibrosis</td>\n",
       "      <td>0.210284</td>\n",
       "      <td>2</td>\n",
       "      <td>Biomarker</td>\n",
       "      <td>BeFree, CTD_human</td>\n",
       "    </tr>\n",
       "  </tbody>\n",
       "</table>\n",
       "</div>"
      ],
      "text/plain": [
       "   doid_code           doid_name      diseaseId  geneId geneSymbol  \\\n",
       "0  DOID:2531  hematologic cancer  umls:C0001815    3717       JAK2   \n",
       "1  DOID:2531  hematologic cancer  umls:C0001815    2146       EZH2   \n",
       "\n",
       "                                            geneName            diseaseName  \\\n",
       "0                                     Janus kinase 2  Primary Myelofibrosis   \n",
       "1  enhancer of zeste 2 polycomb repressive comple...  Primary Myelofibrosis   \n",
       "\n",
       "      score  NumberOfPubmeds                                 associationType  \\\n",
       "0  0.371838              242  AlteredExpression, Biomarker, GeneticVariation   \n",
       "1  0.210284                2                                       Biomarker   \n",
       "\n",
       "                          source  \n",
       "0  BeFree, CTD_human, GAD, LHGDN  \n",
       "1              BeFree, CTD_human  "
      ]
     },
     "execution_count": 4,
     "metadata": {},
     "output_type": "execute_result"
    }
   ],
   "source": [
    "all_df = pandas.read_table('download/all_gene_disease_associations.txt.gz')\n",
    "all_df = domap_df.merge(all_df)\n",
    "all_df.head(2)"
   ]
  },
  {
   "cell_type": "code",
   "execution_count": 5,
   "metadata": {
    "collapsed": false
   },
   "outputs": [
    {
     "data": {
      "text/plain": [
       "129982"
      ]
     },
     "execution_count": 5,
     "metadata": {},
     "output_type": "execute_result"
    }
   ],
   "source": [
    "len(all_df)"
   ]
  },
  {
   "cell_type": "code",
   "execution_count": 6,
   "metadata": {
    "collapsed": false
   },
   "outputs": [
    {
     "data": {
      "text/plain": [
       "125"
      ]
     },
     "execution_count": 6,
     "metadata": {},
     "output_type": "execute_result"
    }
   ],
   "source": [
    "all_df.doid_code.nunique()"
   ]
  },
  {
   "cell_type": "code",
   "execution_count": 7,
   "metadata": {
    "collapsed": false
   },
   "outputs": [
    {
     "data": {
      "image/png": "[encoded data removed]",
      "text/plain": [
       "<matplotlib.figure.Figure at 0x7ff85cfc85f8>"
      ]
     },
     "metadata": {},
     "output_type": "display_data"
    }
   ],
   "source": [
    "seaborn.distplot(all_df.score, kde=False);"
   ]
  },
  {
   "cell_type": "markdown",
   "metadata": {},
   "source": [
    "## Consolidate by DO and Entrez Gene terms"
   ]
  },
  {
   "cell_type": "code",
   "execution_count": 8,
   "metadata": {
    "collapsed": false
   },
   "outputs": [
    {
     "data": {
      "text/html": [
       "<div>\n",
       "<table border=\"1\" class=\"dataframe\">\n",
       "  <thead>\n",
       "    <tr style=\"text-align: right;\">\n",
       "      <th></th>\n",
       "      <th>doid_code</th>\n",
       "      <th>doid_name</th>\n",
       "      <th>geneId</th>\n",
       "      <th>geneSymbol</th>\n",
       "      <th>count</th>\n",
       "      <th>pubmeds_max</th>\n",
       "      <th>score_max</th>\n",
       "      <th>score_mean</th>\n",
       "      <th>associationType</th>\n",
       "      <th>source</th>\n",
       "    </tr>\n",
       "  </thead>\n",
       "  <tbody>\n",
       "    <tr>\n",
       "      <th>298</th>\n",
       "      <td>DOID:0050156</td>\n",
       "      <td>idiopathic pulmonary fibrosis</td>\n",
       "      <td>729238</td>\n",
       "      <td>SFTPA2</td>\n",
       "      <td>1</td>\n",
       "      <td>1</td>\n",
       "      <td>0.620284</td>\n",
       "      <td>0.620284</td>\n",
       "      <td>Biomarker|GeneticVariation</td>\n",
       "      <td>BeFree|CLINVAR|CTD_human|UNIPROT</td>\n",
       "    </tr>\n",
       "    <tr>\n",
       "      <th>203</th>\n",
       "      <td>DOID:0050156</td>\n",
       "      <td>idiopathic pulmonary fibrosis</td>\n",
       "      <td>7015</td>\n",
       "      <td>TERT</td>\n",
       "      <td>1</td>\n",
       "      <td>10</td>\n",
       "      <td>0.422153</td>\n",
       "      <td>0.422153</td>\n",
       "      <td>Biomarker|GeneticVariation</td>\n",
       "      <td>BeFree|CLINVAR|CTD_human|GAD|LHGDN</td>\n",
       "    </tr>\n",
       "  </tbody>\n",
       "</table>\n",
       "</div>"
      ],
      "text/plain": [
       "        doid_code                      doid_name  geneId geneSymbol  count  \\\n",
       "298  DOID:0050156  idiopathic pulmonary fibrosis  729238     SFTPA2      1   \n",
       "203  DOID:0050156  idiopathic pulmonary fibrosis    7015       TERT      1   \n",
       "\n",
       "     pubmeds_max  score_max  score_mean             associationType  \\\n",
       "298            1   0.620284    0.620284  Biomarker|GeneticVariation   \n",
       "203           10   0.422153    0.422153  Biomarker|GeneticVariation   \n",
       "\n",
       "                                 source  \n",
       "298    BeFree|CLINVAR|CTD_human|UNIPROT  \n",
       "203  BeFree|CLINVAR|CTD_human|GAD|LHGDN  "
      ]
     },
     "execution_count": 8,
     "metadata": {},
     "output_type": "execute_result"
    }
   ],
   "source": [
    "def consolidator(df):\n",
    "    \"\"\"Consolidate rows of all_df\"\"\"\n",
    "    series = pandas.Series()\n",
    "    series['count'] = len(df)\n",
    "    series['pubmeds_max'] = df.NumberOfPubmeds.max()\n",
    "    series['score_max'] = df.score.max()\n",
    "    series['score_mean'] = df.score.mean()\n",
    "    for column in ['associationType', 'source']:\n",
    "        values = set()\n",
    "        for x in df[column]:\n",
    "            values.update(x.split(', '))\n",
    "        series[column] = '|'.join(sorted(values))\n",
    "    return series\n",
    "\n",
    "consolidated_df = all_df.groupby(['doid_code', 'doid_name', 'geneId', 'geneSymbol']).apply(consolidator).reset_index()\n",
    "consolidated_df = consolidated_df.sort(['doid_code', 'score_max'], ascending=[True, False])\n",
    "consolidated_df.head(2)"
   ]
  },
  {
   "cell_type": "code",
   "execution_count": 9,
   "metadata": {
    "collapsed": true
   },
   "outputs": [],
   "source": [
    "consolidated_df.to_csv('data/consolidated.tsv', sep='\\t', index=False)"
   ]
  },
  {
   "cell_type": "code",
   "execution_count": 10,
   "metadata": {
    "collapsed": false
   },
   "outputs": [
    {
     "data": {
      "text/plain": [
       "82833"
      ]
     },
     "execution_count": 10,
     "metadata": {},
     "output_type": "execute_result"
    }
   ],
   "source": [
    "len(consolidated_df)"
   ]
  },
  {
   "cell_type": "code",
   "execution_count": 11,
   "metadata": {
    "collapsed": false
   },
   "outputs": [
    {
     "data": {
      "text/plain": [
       "7779"
      ]
     },
     "execution_count": 11,
     "metadata": {},
     "output_type": "execute_result"
    }
   ],
   "source": [
    "hps_df = consolidated_df[consolidated_df.score_max >= 0.06]\n",
    "len(hps_df)"
   ]
  },
  {
   "cell_type": "code",
   "execution_count": 12,
   "metadata": {
    "collapsed": false
   },
   "outputs": [
    {
     "data": {
      "text/html": [
       "<div>\n",
       "<table border=\"1\" class=\"dataframe\">\n",
       "  <thead>\n",
       "    <tr style=\"text-align: right;\">\n",
       "      <th></th>\n",
       "      <th>doid_code</th>\n",
       "      <th>doid_name</th>\n",
       "      <th>geneId</th>\n",
       "      <th>geneSymbol</th>\n",
       "      <th>count</th>\n",
       "      <th>pubmeds_max</th>\n",
       "      <th>score_max</th>\n",
       "      <th>score_mean</th>\n",
       "      <th>associationType</th>\n",
       "      <th>source</th>\n",
       "    </tr>\n",
       "  </thead>\n",
       "  <tbody>\n",
       "    <tr>\n",
       "      <th>43683</th>\n",
       "      <td>DOID:2377</td>\n",
       "      <td>multiple sclerosis</td>\n",
       "      <td>3123</td>\n",
       "      <td>HLA-DRB1</td>\n",
       "      <td>3</td>\n",
       "      <td>232</td>\n",
       "      <td>0.362439</td>\n",
       "      <td>0.124658</td>\n",
       "      <td>Biomarker|GeneticVariation</td>\n",
       "      <td>BeFree|CTD_human|GAD|LHGDN</td>\n",
       "    </tr>\n",
       "    <tr>\n",
       "      <th>43463</th>\n",
       "      <td>DOID:2377</td>\n",
       "      <td>multiple sclerosis</td>\n",
       "      <td>348</td>\n",
       "      <td>APOE</td>\n",
       "      <td>2</td>\n",
       "      <td>68</td>\n",
       "      <td>0.302967</td>\n",
       "      <td>0.259084</td>\n",
       "      <td>Biomarker|GeneticVariation</td>\n",
       "      <td>BeFree|CTD_human|GAD|LHGDN</td>\n",
       "    </tr>\n",
       "    <tr>\n",
       "      <th>43680</th>\n",
       "      <td>DOID:2377</td>\n",
       "      <td>multiple sclerosis</td>\n",
       "      <td>3119</td>\n",
       "      <td>HLA-DQB1</td>\n",
       "      <td>2</td>\n",
       "      <td>63</td>\n",
       "      <td>0.289955</td>\n",
       "      <td>0.147295</td>\n",
       "      <td>AlteredExpression|Biomarker|GeneticVariation</td>\n",
       "      <td>BeFree|CTD_human|GAD|LHGDN</td>\n",
       "    </tr>\n",
       "    <tr>\n",
       "      <th>43732</th>\n",
       "      <td>DOID:2377</td>\n",
       "      <td>multiple sclerosis</td>\n",
       "      <td>3575</td>\n",
       "      <td>IL7R</td>\n",
       "      <td>1</td>\n",
       "      <td>38</td>\n",
       "      <td>0.274986</td>\n",
       "      <td>0.274986</td>\n",
       "      <td>Biomarker|GeneticVariation</td>\n",
       "      <td>BeFree|CTD_human|GAD|LHGDN</td>\n",
       "    </tr>\n",
       "    <tr>\n",
       "      <th>43724</th>\n",
       "      <td>DOID:2377</td>\n",
       "      <td>multiple sclerosis</td>\n",
       "      <td>3559</td>\n",
       "      <td>IL2RA</td>\n",
       "      <td>3</td>\n",
       "      <td>46</td>\n",
       "      <td>0.266881</td>\n",
       "      <td>0.089244</td>\n",
       "      <td>Biomarker|GeneticVariation</td>\n",
       "      <td>BeFree|CTD_human|GAD|LHGDN</td>\n",
       "    </tr>\n",
       "    <tr>\n",
       "      <th>43713</th>\n",
       "      <td>DOID:2377</td>\n",
       "      <td>multiple sclerosis</td>\n",
       "      <td>3456</td>\n",
       "      <td>IFNB1</td>\n",
       "      <td>3</td>\n",
       "      <td>149</td>\n",
       "      <td>0.253425</td>\n",
       "      <td>0.087027</td>\n",
       "      <td>Biomarker|GeneticVariation|Therapeutic</td>\n",
       "      <td>BeFree|CTD_human|GAD</td>\n",
       "    </tr>\n",
       "    <tr>\n",
       "      <th>44227</th>\n",
       "      <td>DOID:2377</td>\n",
       "      <td>multiple sclerosis</td>\n",
       "      <td>23274</td>\n",
       "      <td>CLEC16A</td>\n",
       "      <td>1</td>\n",
       "      <td>20</td>\n",
       "      <td>0.248286</td>\n",
       "      <td>0.248286</td>\n",
       "      <td>Biomarker|GeneticVariation</td>\n",
       "      <td>BeFree|CTD_human|GAD|LHGDN</td>\n",
       "    </tr>\n",
       "    <tr>\n",
       "      <th>43720</th>\n",
       "      <td>DOID:2377</td>\n",
       "      <td>multiple sclerosis</td>\n",
       "      <td>3553</td>\n",
       "      <td>IL1B</td>\n",
       "      <td>1</td>\n",
       "      <td>21</td>\n",
       "      <td>0.239379</td>\n",
       "      <td>0.239379</td>\n",
       "      <td>Biomarker|GeneticVariation|Therapeutic</td>\n",
       "      <td>BeFree|CTD_human|GAD|LHGDN</td>\n",
       "    </tr>\n",
       "    <tr>\n",
       "      <th>43531</th>\n",
       "      <td>DOID:2377</td>\n",
       "      <td>multiple sclerosis</td>\n",
       "      <td>965</td>\n",
       "      <td>CD58</td>\n",
       "      <td>2</td>\n",
       "      <td>15</td>\n",
       "      <td>0.237472</td>\n",
       "      <td>0.119895</td>\n",
       "      <td>Biomarker|GeneticVariation</td>\n",
       "      <td>BeFree|CTD_human|GAD</td>\n",
       "    </tr>\n",
       "    <tr>\n",
       "      <th>43677</th>\n",
       "      <td>DOID:2377</td>\n",
       "      <td>multiple sclerosis</td>\n",
       "      <td>3115</td>\n",
       "      <td>HLA-DPB1</td>\n",
       "      <td>2</td>\n",
       "      <td>22</td>\n",
       "      <td>0.236856</td>\n",
       "      <td>0.119587</td>\n",
       "      <td>Biomarker|GeneticVariation</td>\n",
       "      <td>BeFree|CTD_human|GAD</td>\n",
       "    </tr>\n",
       "    <tr>\n",
       "      <th>43946</th>\n",
       "      <td>DOID:2377</td>\n",
       "      <td>multiple sclerosis</td>\n",
       "      <td>5788</td>\n",
       "      <td>PTPRC</td>\n",
       "      <td>1</td>\n",
       "      <td>15</td>\n",
       "      <td>0.235645</td>\n",
       "      <td>0.235645</td>\n",
       "      <td>Biomarker|GeneticVariation</td>\n",
       "      <td>BeFree|CTD_human|GAD|LHGDN</td>\n",
       "    </tr>\n",
       "    <tr>\n",
       "      <th>43682</th>\n",
       "      <td>DOID:2377</td>\n",
       "      <td>multiple sclerosis</td>\n",
       "      <td>3122</td>\n",
       "      <td>HLA-DRA</td>\n",
       "      <td>1</td>\n",
       "      <td>9</td>\n",
       "      <td>0.229593</td>\n",
       "      <td>0.229593</td>\n",
       "      <td>Biomarker|GeneticVariation</td>\n",
       "      <td>BeFree|CTD_human|GAD|LHGDN</td>\n",
       "    </tr>\n",
       "    <tr>\n",
       "      <th>44059</th>\n",
       "      <td>DOID:2377</td>\n",
       "      <td>multiple sclerosis</td>\n",
       "      <td>7132</td>\n",
       "      <td>TNFRSF1A</td>\n",
       "      <td>2</td>\n",
       "      <td>20</td>\n",
       "      <td>0.228155</td>\n",
       "      <td>0.114219</td>\n",
       "      <td>Biomarker|GeneticVariation</td>\n",
       "      <td>BeFree|CTD_human|GAD</td>\n",
       "    </tr>\n",
       "    <tr>\n",
       "      <th>43809</th>\n",
       "      <td>DOID:2377</td>\n",
       "      <td>multiple sclerosis</td>\n",
       "      <td>4261</td>\n",
       "      <td>CIITA</td>\n",
       "      <td>1</td>\n",
       "      <td>16</td>\n",
       "      <td>0.225271</td>\n",
       "      <td>0.225271</td>\n",
       "      <td>Biomarker|GeneticVariation</td>\n",
       "      <td>BeFree|CTD_human|GAD</td>\n",
       "    </tr>\n",
       "    <tr>\n",
       "      <th>43705</th>\n",
       "      <td>DOID:2377</td>\n",
       "      <td>multiple sclerosis</td>\n",
       "      <td>3383</td>\n",
       "      <td>ICAM1</td>\n",
       "      <td>1</td>\n",
       "      <td>10</td>\n",
       "      <td>0.224753</td>\n",
       "      <td>0.224753</td>\n",
       "      <td>AlteredExpression|Biomarker|GeneticVariation</td>\n",
       "      <td>BeFree|CTD_human|GAD|LHGDN</td>\n",
       "    </tr>\n",
       "  </tbody>\n",
       "</table>\n",
       "</div>"
      ],
      "text/plain": [
       "       doid_code           doid_name  geneId geneSymbol  count  pubmeds_max  \\\n",
       "43683  DOID:2377  multiple sclerosis    3123   HLA-DRB1      3          232   \n",
       "43463  DOID:2377  multiple sclerosis     348       APOE      2           68   \n",
       "43680  DOID:2377  multiple sclerosis    3119   HLA-DQB1      2           63   \n",
       "43732  DOID:2377  multiple sclerosis    3575       IL7R      1           38   \n",
       "43724  DOID:2377  multiple sclerosis    3559      IL2RA      3           46   \n",
       "43713  DOID:2377  multiple sclerosis    3456      IFNB1      3          149   \n",
       "44227  DOID:2377  multiple sclerosis   23274    CLEC16A      1           20   \n",
       "43720  DOID:2377  multiple sclerosis    3553       IL1B      1           21   \n",
       "43531  DOID:2377  multiple sclerosis     965       CD58      2           15   \n",
       "43677  DOID:2377  multiple sclerosis    3115   HLA-DPB1      2           22   \n",
       "43946  DOID:2377  multiple sclerosis    5788      PTPRC      1           15   \n",
       "43682  DOID:2377  multiple sclerosis    3122    HLA-DRA      1            9   \n",
       "44059  DOID:2377  multiple sclerosis    7132   TNFRSF1A      2           20   \n",
       "43809  DOID:2377  multiple sclerosis    4261      CIITA      1           16   \n",
       "43705  DOID:2377  multiple sclerosis    3383      ICAM1      1           10   \n",
       "\n",
       "       score_max  score_mean                               associationType  \\\n",
       "43683   0.362439    0.124658                    Biomarker|GeneticVariation   \n",
       "43463   0.302967    0.259084                    Biomarker|GeneticVariation   \n",
       "43680   0.289955    0.147295  AlteredExpression|Biomarker|GeneticVariation   \n",
       "43732   0.274986    0.274986                    Biomarker|GeneticVariation   \n",
       "43724   0.266881    0.089244                    Biomarker|GeneticVariation   \n",
       "43713   0.253425    0.087027        Biomarker|GeneticVariation|Therapeutic   \n",
       "44227   0.248286    0.248286                    Biomarker|GeneticVariation   \n",
       "43720   0.239379    0.239379        Biomarker|GeneticVariation|Therapeutic   \n",
       "43531   0.237472    0.119895                    Biomarker|GeneticVariation   \n",
       "43677   0.236856    0.119587                    Biomarker|GeneticVariation   \n",
       "43946   0.235645    0.235645                    Biomarker|GeneticVariation   \n",
       "43682   0.229593    0.229593                    Biomarker|GeneticVariation   \n",
       "44059   0.228155    0.114219                    Biomarker|GeneticVariation   \n",
       "43809   0.225271    0.225271                    Biomarker|GeneticVariation   \n",
       "43705   0.224753    0.224753  AlteredExpression|Biomarker|GeneticVariation   \n",
       "\n",
       "                           source  \n",
       "43683  BeFree|CTD_human|GAD|LHGDN  \n",
       "43463  BeFree|CTD_human|GAD|LHGDN  \n",
       "43680  BeFree|CTD_human|GAD|LHGDN  \n",
       "43732  BeFree|CTD_human|GAD|LHGDN  \n",
       "43724  BeFree|CTD_human|GAD|LHGDN  \n",
       "43713        BeFree|CTD_human|GAD  \n",
       "44227  BeFree|CTD_human|GAD|LHGDN  \n",
       "43720  BeFree|CTD_human|GAD|LHGDN  \n",
       "43531        BeFree|CTD_human|GAD  \n",
       "43677        BeFree|CTD_human|GAD  \n",
       "43946  BeFree|CTD_human|GAD|LHGDN  \n",
       "43682  BeFree|CTD_human|GAD|LHGDN  \n",
       "44059        BeFree|CTD_human|GAD  \n",
       "43809        BeFree|CTD_human|GAD  \n",
       "43705  BeFree|CTD_human|GAD|LHGDN  "
      ]
     },
     "execution_count": 12,
     "metadata": {},
     "output_type": "execute_result"
    }
   ],
   "source": [
    "hps_df.query(\"doid_name == 'multiple sclerosis'\").head(15)"
   ]
  },
  {
   "cell_type": "code",
   "execution_count": 13,
   "metadata": {
    "collapsed": false
   },
   "outputs": [
    {
     "data": {
      "text/plain": [
       "<matplotlib.axes._subplots.AxesSubplot at 0x7ff85cf53128>"
      ]
     },
     "execution_count": 13,
     "metadata": {},
     "output_type": "execute_result"
    },
    {
     "data": {
      "image/png": "[encoded data removed]",
      "text/plain": [
       "<matplotlib.figure.Figure at 0x7ff85ced6048>"
      ]
     },
     "metadata": {},
     "output_type": "display_data"
    }
   ],
   "source": [
    "seaborn.distplot(hps_df.doid_name.value_counts())"
   ]
  },
  {
   "cell_type": "markdown",
   "metadata": {},
   "source": [
    "## Identify UMLS CUIs that are DO Slim xrefs but not is DisGeNET"
   ]
  },
  {
   "cell_type": "code",
   "execution_count": 14,
   "metadata": {
    "collapsed": false
   },
   "outputs": [],
   "source": [
    "url = 'https://raw.githubusercontent.com/dhimmel/disease-ontology/72614ade9f1cc5a5317b8f6836e1e464b31d5587/data/xrefs-slim.tsv'\n",
    "domap_df = pandas.read_table(url)\n",
    "domap_df = domap_df.query('resource == \"UMLS\"')\n",
    "domap_df['diseaseId'] = 'umls:' + domap_df['resource_id']\n",
    "domap_df = domap_df[['doid_code', 'doid_name', 'diseaseId']]\n",
    "unmapped_df = domap_df[-domap_df.diseaseId.isin(all_df.diseaseId)]\n",
    "unmapped_df.to_csv('data/unmapped-umls.tsv', sep='\\t', index=False)"
   ]
  }
 ],
 "metadata": {
  "kernelspec": {
   "display_name": "Python 3",
   "language": "python",
   "name": "python3"
  },
  "language_info": {
   "codemirror_mode": {
    "name": "ipython",
    "version": 3
   },
   "file_extension": ".py",
   "mimetype": "text/x-python",
   "name": "python",
   "nbconvert_exporter": "python",
   "pygments_lexer": "ipython3",
   "version": "3.4.3"
  }
 },
 "nbformat": 4,
 "nbformat_minor": 0
}
