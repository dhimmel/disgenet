{
 "cells": [
  {
   "cell_type": "markdown",
   "metadata": {},
   "source": [
    "# Procesing DisGeNET for disease-gene relationships\n",
    "\n",
    "+ [DisGeNET website](http://www.disgenet.org/web/DisGeNET/menu/home)\n",
    "+ [2015 publication](https://dx.doi.org/10.1093/database/bav028)\n",
    "+ [2011 publication](https://dx.doi.org/10.1371/journal.pone.0020284)\n",
    "+ [2010 publication](https://dx.doi.org/10.1093/bioinformatics/btq538)"
   ]
  },
  {
   "cell_type": "code",
   "execution_count": 1,
   "metadata": {
    "collapsed": true
   },
   "outputs": [],
   "source": [
    "import pandas\n",
    "import seaborn\n",
    "\n",
    "%matplotlib inline"
   ]
  },
  {
   "cell_type": "markdown",
   "metadata": {},
   "source": [
    "## Data download"
   ]
  },
  {
   "cell_type": "code",
   "execution_count": 2,
   "metadata": {
    "collapsed": false
   },
   "outputs": [],
   "source": [
    "# filenames = [\n",
    "#     'readme.txt',\n",
    "#     'curated_gene_disease_associations.txt.gz',\n",
    "#     'literature_gene_disease_associations.txt.gz',\n",
    "#     'befree_gene_disease_associations.txt.gz',\n",
    "#     'all_gene_disease_associations.txt.gz',\n",
    "# ]\n",
    "\n",
    "# base_url = 'http://www.disgenet.org/ds/DisGeNET/results'\n",
    "\n",
    "# for filename in filenames:\n",
    "#     ! wget --timestamping --no-verbose --directory-prefix download {base_url}/{filename}"
   ]
  },
  {
   "cell_type": "markdown",
   "metadata": {},
   "source": [
    "## Read mappings"
   ]
  },
  {
   "cell_type": "code",
   "execution_count": 3,
   "metadata": {
    "collapsed": false
   },
   "outputs": [
    {
     "data": {
      "text/html": [
       "<div>\n",
       "<table border=\"1\" class=\"dataframe\">\n",
       "  <thead>\n",
       "    <tr style=\"text-align: right;\">\n",
       "      <th></th>\n",
       "      <th>doid_code</th>\n",
       "      <th>doid_name</th>\n",
       "      <th>diseaseId</th>\n",
       "    </tr>\n",
       "  </thead>\n",
       "  <tbody>\n",
       "    <tr>\n",
       "      <th>513</th>\n",
       "      <td>DOID:2531</td>\n",
       "      <td>hematologic cancer</td>\n",
       "      <td>umls:C0001815</td>\n",
       "    </tr>\n",
       "    <tr>\n",
       "      <th>514</th>\n",
       "      <td>DOID:2531</td>\n",
       "      <td>hematologic cancer</td>\n",
       "      <td>umls:C0002890</td>\n",
       "    </tr>\n",
       "    <tr>\n",
       "      <th>515</th>\n",
       "      <td>DOID:2531</td>\n",
       "      <td>hematologic cancer</td>\n",
       "      <td>umls:C0006413</td>\n",
       "    </tr>\n",
       "  </tbody>\n",
       "</table>\n",
       "</div>"
      ],
      "text/plain": [
       "     doid_code           doid_name      diseaseId\n",
       "513  DOID:2531  hematologic cancer  umls:C0001815\n",
       "514  DOID:2531  hematologic cancer  umls:C0002890\n",
       "515  DOID:2531  hematologic cancer  umls:C0006413"
      ]
     },
     "execution_count": 3,
     "metadata": {},
     "output_type": "execute_result"
    }
   ],
   "source": [
    "# Download and process UMLS to DOID mappings\n",
    "# We use the propagated mappings here\n",
    "url = 'https://raw.githubusercontent.com/dhimmel/disease-ontology/72614ade9f1cc5a5317b8f6836e1e464b31d5587/data/xrefs-prop-slim.tsv'\n",
    "domap_df = pandas.read_table(url)\n",
    "domap_df = domap_df.query('resource == \"UMLS\"')\n",
    "domap_df['diseaseId'] = 'umls:' + domap_df['resource_id']\n",
    "domap_df = domap_df[['doid_code', 'doid_name', 'diseaseId']]\n",
    "domap_df.head(3)"
   ]
  },
  {
   "cell_type": "markdown",
   "metadata": {},
   "source": [
    "## Read data"
   ]
  },
  {
   "cell_type": "code",
   "execution_count": 4,
   "metadata": {
    "collapsed": false
   },
   "outputs": [
    {
     "data": {
      "text/html": [
       "<div>\n",
       "<table border=\"1\" class=\"dataframe\">\n",
       "  <thead>\n",
       "    <tr style=\"text-align: right;\">\n",
       "      <th></th>\n",
       "      <th>doid_code</th>\n",
       "      <th>doid_name</th>\n",
       "      <th>diseaseId</th>\n",
       "      <th>geneId</th>\n",
       "      <th>geneSymbol</th>\n",
       "      <th>geneName</th>\n",
       "      <th>diseaseName</th>\n",
       "      <th>score</th>\n",
       "      <th>NumberOfPubmeds</th>\n",
       "      <th>associationType</th>\n",
       "      <th>source</th>\n",
       "    </tr>\n",
       "  </thead>\n",
       "  <tbody>\n",
       "    <tr>\n",
       "      <th>0</th>\n",
       "      <td>DOID:2531</td>\n",
       "      <td>hematologic cancer</td>\n",
       "      <td>umls:C0001815</td>\n",
       "      <td>3717</td>\n",
       "      <td>JAK2</td>\n",
       "      <td>Janus kinase 2</td>\n",
       "      <td>Primary Myelofibrosis</td>\n",
       "      <td>0.371838</td>\n",
       "      <td>242</td>\n",
       "      <td>AlteredExpression, Biomarker, GeneticVariation</td>\n",
       "      <td>BeFree, CTD_human, GAD, LHGDN</td>\n",
       "    </tr>\n",
       "    <tr>\n",
       "      <th>1</th>\n",
       "      <td>DOID:2531</td>\n",
       "      <td>hematologic cancer</td>\n",
       "      <td>umls:C0001815</td>\n",
       "      <td>2146</td>\n",
       "      <td>EZH2</td>\n",
       "      <td>enhancer of zeste 2 polycomb repressive comple...</td>\n",
       "      <td>Primary Myelofibrosis</td>\n",
       "      <td>0.210284</td>\n",
       "      <td>2</td>\n",
       "      <td>Biomarker</td>\n",
       "      <td>BeFree, CTD_human</td>\n",
       "    </tr>\n",
       "  </tbody>\n",
       "</table>\n",
       "</div>"
      ],
      "text/plain": [
       "   doid_code           doid_name      diseaseId  geneId geneSymbol  \\\n",
       "0  DOID:2531  hematologic cancer  umls:C0001815    3717       JAK2   \n",
       "1  DOID:2531  hematologic cancer  umls:C0001815    2146       EZH2   \n",
       "\n",
       "                                            geneName            diseaseName  \\\n",
       "0                                     Janus kinase 2  Primary Myelofibrosis   \n",
       "1  enhancer of zeste 2 polycomb repressive comple...  Primary Myelofibrosis   \n",
       "\n",
       "      score  NumberOfPubmeds                                 associationType  \\\n",
       "0  0.371838              242  AlteredExpression, Biomarker, GeneticVariation   \n",
       "1  0.210284                2                                       Biomarker   \n",
       "\n",
       "                          source  \n",
       "0  BeFree, CTD_human, GAD, LHGDN  \n",
       "1              BeFree, CTD_human  "
      ]
     },
     "execution_count": 4,
     "metadata": {},
     "output_type": "execute_result"
    }
   ],
   "source": [
    "all_df = pandas.read_table('download/all_gene_disease_associations.txt.gz')\n",
    "all_df = domap_df.merge(all_df)\n",
    "all_df.head(2)"
   ]
  },
  {
   "cell_type": "code",
   "execution_count": 5,
   "metadata": {
    "collapsed": false
   },
   "outputs": [
    {
     "data": {
      "text/plain": [
       "129982"
      ]
     },
     "execution_count": 5,
     "metadata": {},
     "output_type": "execute_result"
    }
   ],
   "source": [
    "len(all_df)"
   ]
  },
  {
   "cell_type": "code",
   "execution_count": 6,
   "metadata": {
    "collapsed": false
   },
   "outputs": [
    {
     "data": {
      "text/plain": [
       "125"
      ]
     },
     "execution_count": 6,
     "metadata": {},
     "output_type": "execute_result"
    }
   ],
   "source": [
    "all_df.doid_code.nunique()"
   ]
  },
  {
   "cell_type": "code",
   "execution_count": null,
   "metadata": {
    "collapsed": false
   },
   "outputs": [
    {
     "data": {
      "image/png": "[encoded data removed]",
      "text/plain": [
       "<matplotlib.figure.Figure at 0x7ff85cfc85f8>"
      ]
     },
     "metadata": {},
     "output_type": "display_data"
    }
   ],
   "source": [
    "seaborn.distplot(all_df.score, kde=False);"
   ]
  },
  {
   "cell_type": "markdown",
   "metadata": {},
   "source": [
    "## Consolidate by DO and Entrez Gene terms"
   ]
  },
  {
   "cell_type": "code",
   "execution_count": null,
   "metadata": {
    "collapsed": false
   },
   "outputs": [],
   "source": [
    "def consolidator(df):\n",
    "    \"\"\"Consolidate rows of all_df\"\"\"\n",
    "    series = pandas.Series()\n",
    "    series['count'] = len(df)\n",
    "    series['pubmeds_max'] = df.NumberOfPubmeds.max()\n",
    "    series['score_max'] = df.score.max()\n",
    "    series['score_mean'] = df.score.mean()\n",
    "    for column in ['associationType', 'source']:\n",
    "        values = set()\n",
    "        for x in df[column]:\n",
    "            values.update(x.split(', '))\n",
    "        series[column] = '|'.join(sorted(values))\n",
    "    return series\n",
    "\n",
    "consolidated_df = all_df.groupby(['doid_code', 'doid_name', 'geneId', 'geneSymbol']).apply(consolidator).reset_index()\n",
    "consolidated_df = consolidated_df.sort(['doid_code', 'score_max'], ascending=[True, False])\n",
    "consolidated_df.head(2)"
   ]
  },
  {
   "cell_type": "code",
   "execution_count": null,
   "metadata": {
    "collapsed": true
   },
   "outputs": [],
   "source": [
    "consolidated_df.to_csv('data/consolidated.tsv', sep='\\t', index=False)"
   ]
  },
  {
   "cell_type": "code",
   "execution_count": null,
   "metadata": {
    "collapsed": false
   },
   "outputs": [],
   "source": [
    "len(consolidated_df)"
   ]
  },
  {
   "cell_type": "code",
   "execution_count": null,
   "metadata": {
    "collapsed": false
   },
   "outputs": [],
   "source": [
    "hps_df = consolidated_df[consolidated_df.score_max >= 0.06]\n",
    "len(hps_df)"
   ]
  },
  {
   "cell_type": "code",
   "execution_count": null,
   "metadata": {
    "collapsed": false
   },
   "outputs": [],
   "source": [
    "hps_df.query(\"doid_name == 'multiple sclerosis'\").head(15)"
   ]
  },
  {
   "cell_type": "code",
   "execution_count": null,
   "metadata": {
    "collapsed": false
   },
   "outputs": [],
   "source": [
    "seaborn.distplot(hps_df.doid_name.value_counts())"
   ]
  },
  {
   "cell_type": "markdown",
   "metadata": {},
   "source": [
    "## Identify UMLS CUIs that are DO Slim xrefs but not is DisGeNET"
   ]
  },
  {
   "cell_type": "code",
   "execution_count": null,
   "metadata": {
    "collapsed": false
   },
   "outputs": [],
   "source": [
    "url = 'https://raw.githubusercontent.com/dhimmel/disease-ontology/72614ade9f1cc5a5317b8f6836e1e464b31d5587/data/xrefs-slim.tsv'\n",
    "domap_df = pandas.read_table(url)\n",
    "domap_df = domap_df.query('resource == \"UMLS\"')\n",
    "domap_df['diseaseId'] = 'umls:' + domap_df['resource_id']\n",
    "domap_df = domap_df[['doid_code', 'doid_name', 'diseaseId']]\n",
    "unmapped_df = domap_df[-domap_df.diseaseId.isin(all_df.diseaseId)]\n",
    "unmapped_df.to_csv('data/unmapped-umls.tsv', sep='\\t', index=False)"
   ]
  }
 ],
 "metadata": {
  "kernelspec": {
   "display_name": "Python 3",
   "language": "python",
   "name": "python3"
  },
  "language_info": {
   "codemirror_mode": {
    "name": "ipython",
    "version": 3
   },
   "file_extension": ".py",
   "mimetype": "text/x-python",
   "name": "python",
   "nbconvert_exporter": "python",
   "pygments_lexer": "ipython3",
   "version": "3.4.3"
  }
 },
 "nbformat": 4,
 "nbformat_minor": 0
}
